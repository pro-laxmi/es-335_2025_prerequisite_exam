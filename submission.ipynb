{
 "cells": [
  {
   "cell_type": "markdown",
   "metadata": {},
   "source": [
    "#### 1. How many multiplications and additions do you need to perform a matrix multiplication between a (n, k) and (k, m) matrix? Explain."
   ]
  },
  {
   "cell_type": "code",
   "execution_count": null,
   "metadata": {},
   "outputs": [],
   "source": [
    "# Matrix multiplication complexity\n",
    "# For two matrices A (n x k) and B (k x m),\n",
    "# each element in the result matrix C (n x m) is computed using k multiplications and (k - 1) additions.\n",
    "# So total multiplications: n * m * k\n",
    "# Total additions: n * m * (k - 1)"
   ]
  },
  {
   "cell_type": "markdown",
   "metadata": {},
   "source": [
    "#### 2. Write Python code to multiply the above two matrices. Solve using list of lists and then use numpy. Compare the timing of both solutions. Which one is faster? Why?"
   ]
  },
  {
   "cell_type": "code",
   "execution_count": 14,
   "metadata": {},
   "outputs": [
    {
     "name": "stdout",
     "output_type": "stream",
     "text": [
      "Time took to compute the matrix multiplication using lists is: 0.39191436767578125\n",
      "Time took to compute the matrix multiplication using array is: 0.003530263900756836\n"
     ]
    }
   ],
   "source": [
    "import numpy as np\n",
    "import time\n",
    "\n",
    "n, k, m = 200, 200, 200\n",
    "a = [[np.random.rand() for i in range(n)] for i in range (k)]\n",
    "b = [[np.random.rand() for i in range(k)] for i in range (m)]\n",
    "c = [[0 for i in range(n)] for i in range (m)]\n",
    "\n",
    "t_in = time.time()\n",
    "C = [[__builtins__.sum(a[i][l] * b[l][j] for l in range(k)) for j in range(m)] for i in range(n)]\n",
    "t_out = time.time()\n",
    "print(\"Time took to compute the matrix multiplication using lists is:\", t_out-t_in)\n",
    "\n",
    "t_in = time.time()\n",
    "a = np.array(a)\n",
    "b = np.array(b)\n",
    "c = np.matmul(a,b)\n",
    "t_out = time.time()\n",
    "print(\"Time took to compute the matrix multiplication using array is:\", t_out-t_in)\n"
   ]
  },
  {
   "cell_type": "markdown",
   "metadata": {},
   "source": [
    "#### 3. Finding the highest element in a list requires one pass of the array. Finding the second highest element requires 2 passes of the array. Using this method, what is the time complexity of finding the median of the array? Can you suggest a better method? Can you implement both these methods in Python and compare against `numpy.median` routine in terms of time?\n",
    "\n",
    "| Method          | Code speed       | Algorithm speed | \n",
    "| --------------- | ---------------- | --------------- | \n",
    "| `np.median()`   | Fastest       | O(n log n)      | \n",
    "| `quickselect()` | Slower        | O(n) average    | \n",
    "| `statistic.median` | Slower        | O(n log n)      |\n",
    "| `pass_method()` | Very slow | O(n²)           | "
   ]
  },
  {
   "cell_type": "code",
   "execution_count": 56,
   "metadata": {},
   "outputs": [
    {
     "name": "stdout",
     "output_type": "stream",
     "text": [
      "5063\n",
      "Time for pass_method: 0.3444652557373047\n",
      "5063\n",
      "Time for statistics.median: 0.001998424530029297\n",
      "5063\n",
      "Time for quickselect: 0.0014150142669677734\n",
      "5063.0\n",
      "Time for np.median: 0.00017642974853515625\n"
     ]
    }
   ],
   "source": [
    "import statistics\n",
    "import random\n",
    "arr = np.array([np.random.choice(10001) for i in range(10001)])\n",
    "\n",
    "def pass_method(arr):\n",
    "    arr_copy = arr.copy().tolist()\n",
    "    n = len(arr_copy)\n",
    "    k = n // 2\n",
    "\n",
    "    for _ in range(k):\n",
    "        max_val = max(arr_copy)\n",
    "        arr_copy.remove(max_val)\n",
    "\n",
    "    return max(arr_copy)\n",
    "\n",
    "# This part of code is given by CHATGPT I do not know this Quick select algorithm\n",
    "def quickselect(arr, k):\n",
    "    if len(arr) == 1:\n",
    "        return arr[0]\n",
    "    pivot = random.choice(arr)\n",
    "    lows = [el for el in arr if el < pivot]\n",
    "    highs = [el for el in arr if el > pivot]\n",
    "    pivots = [el for el in arr if el == pivot]\n",
    "    \n",
    "    if k < len(lows):\n",
    "        return quickselect(lows, k)\n",
    "    elif k < len(lows) + len(pivots):\n",
    "        return pivots[0]\n",
    "    else:\n",
    "        return quickselect(highs, k - len(lows) - len(pivots))\n",
    "\n",
    "def quickselect_median(arr):\n",
    "    arr_copy = arr.tolist()\n",
    "    n = len(arr_copy)\n",
    "    if n % 2 == 1:\n",
    "        return quickselect(arr_copy, n // 2)\n",
    "    else:\n",
    "        return (quickselect(arr_copy, n // 2 - 1) + quickselect(arr_copy, n // 2)) / 2\n",
    "\n",
    "start = time.time()\n",
    "print(pass_method(arr))\n",
    "end = time.time()\n",
    "print(\"Time for pass_method:\", end - start)\n",
    "\n",
    "start = time.time()\n",
    "print(statistics.median(arr))\n",
    "end = time.time()\n",
    "print(\"Time for statistics.median:\", end - start)\n",
    "\n",
    "start = time.time()\n",
    "print(quickselect_median(arr))\n",
    "end = time.time()\n",
    "print(\"Time for quickselect:\", end - start)\n",
    "\n",
    "start = time.time()\n",
    "print(np.median(arr))\n",
    "end = time.time()\n",
    "print(\"Time for np.median:\", end - start)"
   ]
  },
  {
   "cell_type": "markdown",
   "metadata": {},
   "source": [
    "#### 4. What is the gradient of the following function with respect to x and y?\n",
    "\n",
    "$$ z = x^2y + y^3\\sin(x) $$"
   ]
  },
  {
   "cell_type": "code",
   "execution_count": null,
   "metadata": {},
   "outputs": [],
   "source": []
  },
  {
   "cell_type": "markdown",
   "metadata": {},
   "source": [
    "## 5. Use `JAX` to confirm the gradient evaluated by your method matches the analytical solution corresponding to a few random values of x and y."
   ]
  },
  {
   "cell_type": "code",
   "execution_count": null,
   "metadata": {},
   "outputs": [],
   "source": []
  },
  {
   "cell_type": "markdown",
   "metadata": {},
   "source": [
    "## 6. Use `sympy` to confirm that you obtain the same gradient analytically."
   ]
  },
  {
   "cell_type": "code",
   "execution_count": null,
   "metadata": {},
   "outputs": [],
   "source": []
  },
  {
   "cell_type": "markdown",
   "metadata": {},
   "source": [
    "## 7. Create a Python nested dictionary to represent hierarchical information. We want to store record of students and their marks. Something like:\n",
    "```\n",
    "2022\n",
    "    Branch 1\n",
    "        Roll Number: 1, Name: N, Marks:\n",
    "            Maths: 100, English: 70 ...\n",
    "    Branch 2\n",
    "2023\n",
    "    Branch 1\n",
    "    Branch 2\n",
    "2024\n",
    "    Branch 1\n",
    "    Branch 2\n",
    "2025\n",
    "    Branch 1\n",
    "    Branch 2\n",
    "```"
   ]
  },
  {
   "cell_type": "code",
   "execution_count": null,
   "metadata": {},
   "outputs": [],
   "source": []
  },
  {
   "cell_type": "markdown",
   "metadata": {},
   "source": [
    "## 8. Store the same information using Python classes. We have an overall database which is a list of year objects. Each year contains a list of branches. Each branch contains a list of students. Each student has some properties like name, roll number and has marks in some subjects."
   ]
  },
  {
   "cell_type": "code",
   "execution_count": null,
   "metadata": {},
   "outputs": [],
   "source": []
  },
  {
   "cell_type": "markdown",
   "metadata": {},
   "source": [
    "## 9. Using matplotlib plot the following functions on the domain: x = 0.5 to 100.0 in steps of 0.5.\n",
    "\n",
    "1. $y = x$\n",
    "2. $y = x^2$\n",
    "3. $y = \\frac{x^3}{100}$\n",
    "4. $y = \\sin(x)$\n",
    "5. $y = \\frac{\\sin(x)}{x}$\n",
    "6. $y = \\log(x)$\n",
    "7. $y = e^x$"
   ]
  },
  {
   "cell_type": "code",
   "execution_count": null,
   "metadata": {},
   "outputs": [],
   "source": []
  },
  {
   "cell_type": "markdown",
   "metadata": {},
   "source": [
    "## 10. Using numpy generate a matrix of size `20x5` containing random numbers drawn uniformly from the range of 1 to 2. Using Pandas create a dataframe out of this matrix. Name the columns of the dataframe as “a”, “b”, “c”, “d”, “e”. Find the column with the highest standard deviation. Find the row with the lowest mean."
   ]
  },
  {
   "cell_type": "code",
   "execution_count": null,
   "metadata": {},
   "outputs": [],
   "source": []
  },
  {
   "cell_type": "markdown",
   "metadata": {},
   "source": [
    "## 11. Add a new column to the dataframe called “f” which is the sum of the columns “a”, “b”, “c”, “d”, “e”. Create another column called “g”. The value in the column “g” should be “LT8” if the value in the column “f” is less than 8 and “GT8” otherwise. Find the number of rows in the dataframe where the value in the column “g” is “LT8”. Find the standard deviation of the column “f” for the rows where the value in the column “g” is “LT8” and “GT8” respectively."
   ]
  },
  {
   "cell_type": "code",
   "execution_count": null,
   "metadata": {},
   "outputs": [],
   "source": []
  },
  {
   "cell_type": "markdown",
   "metadata": {},
   "source": [
    "## 12. Write a small piece of code to explain broadcasting in numpy."
   ]
  },
  {
   "cell_type": "code",
   "execution_count": null,
   "metadata": {},
   "outputs": [],
   "source": []
  },
  {
   "cell_type": "markdown",
   "metadata": {},
   "source": [
    "## 13. Write a function to compute the `argmin` of a numpy array. The function should take a numpy array as input and return the index of the minimum element. You can use the `np.argmin` function to verify your solution."
   ]
  },
  {
   "cell_type": "code",
   "execution_count": null,
   "metadata": {},
   "outputs": [],
   "source": []
  }
 ],
 "metadata": {
  "kernelspec": {
   "display_name": "Python 3",
   "language": "python",
   "name": "python3"
  },
  "language_info": {
   "codemirror_mode": {
    "name": "ipython",
    "version": 3
   },
   "file_extension": ".py",
   "mimetype": "text/x-python",
   "name": "python",
   "nbconvert_exporter": "python",
   "pygments_lexer": "ipython3",
   "version": "3.13.5"
  }
 },
 "nbformat": 4,
 "nbformat_minor": 2
}
